{
  "nbformat": 4,
  "nbformat_minor": 0,
  "metadata": {
    "colab": {
      "name": "TensorFlowEssentials.ipynb",
      "version": "0.3.2",
      "provenance": [],
      "collapsed_sections": [],
      "include_colab_link": true
    },
    "kernelspec": {
      "name": "python3",
      "display_name": "Python 3"
    }
  },
  "cells": [
    {
      "cell_type": "markdown",
      "metadata": {
        "id": "view-in-github",
        "colab_type": "text"
      },
      "source": [
        "<a href=\"https://colab.research.google.com/github/idebtor/EclipseNotes/blob/master/TensorFlowEssentials.ipynb\" target=\"_parent\"><img src=\"https://colab.research.google.com/assets/colab-badge.svg\" alt=\"Open In Colab\"/></a>"
      ]
    },
    {
      "metadata": {
        "id": "61NsUFtAVtfm",
        "colab_type": "code",
        "colab": {}
      },
      "cell_type": "code",
      "source": [
        ""
      ],
      "execution_count": 0,
      "outputs": []
    },
    {
      "metadata": {
        "id": "NKRuH1TrV216",
        "colab_type": "text"
      },
      "cell_type": "markdown",
      "source": [
        "# TensorFlow Essentials\n",
        "\n",
        "Before implementing machine-learning algorithms, let's first get familiar with how to use TensorFlow.  This lesson covers some essential advantages of TensorFlow to convice you it is the machine-learning library of choice.\n",
        "\n",
        "Suppose you are a private business owner tracking the flow of sales for your products.  Your inventory consists of 1,000 items, and you represent each item's price in a vector called `prices`.  Another 1,000-dimensional vector called `amounts` represents the inventoroy count of each item.  Then you want to write a code to compute the revenue of selling all the products.  Keep in mind that this code does not import any libraries. \n"
      ]
    },
    {
      "metadata": {
        "id": "yRTKQW0WXSa-",
        "colab_type": "code",
        "colab": {
          "base_uri": "https://localhost:8080/",
          "height": 35
        },
        "outputId": "4d514246-5e52-4fa3-a999-6666e23e7e7c"
      },
      "cell_type": "code",
      "source": [
        "prices = [32.50, 10.5, 0.55, 2.5, 4.0]\n",
        "amounts = [10, 20, 5, 2, 3]\n",
        "\n",
        "revenue = 0\n",
        "for price, amount in zip(prices, amounts):\n",
        "  revenue += price * amount\n",
        "  \n",
        "print(revenue)"
      ],
      "execution_count": 16,
      "outputs": [
        {
          "output_type": "stream",
          "text": [
            "554.75\n"
          ],
          "name": "stdout"
        }
      ]
    },
    {
      "metadata": {
        "id": "b1D4Bepdb503",
        "colab_type": "text"
      },
      "cell_type": "markdown",
      "source": [
        "This is a lot of code just to calculate the inner (or dot) product of two vectors. The following code shows how to concisely write the same inner product using NumPy."
      ]
    },
    {
      "metadata": {
        "id": "cWMzAfl7Xg-_",
        "colab_type": "code",
        "colab": {
          "base_uri": "https://localhost:8080/",
          "height": 35
        },
        "outputId": "adeff7fe-13d3-4590-8636-7bdc49fe958c"
      },
      "cell_type": "code",
      "source": [
        "import numpy as np\n",
        "\n",
        "prices = np.array([32.50, 10.5, 0.55, 2.5, 4.0])\n",
        "amounts = np.array([10, 20, 5, 2, 3])\n",
        "\n",
        "revenue = np.dot(prices, amounts)\n",
        "  \n",
        "print(revenue)"
      ],
      "execution_count": 15,
      "outputs": [
        {
          "output_type": "stream",
          "text": [
            "554.75\n"
          ],
          "name": "stdout"
        }
      ]
    },
    {
      "metadata": {
        "id": "oi0ViyHDcOpG",
        "colab_type": "text"
      },
      "cell_type": "markdown",
      "source": [
        "When we are using TensorFlow and NumPy libraries, we can simplify this kind of coding significantly.  Using Python without libraries is like using a camera without auto mode: you gain more flexibility, you can easily make careless mistakes.  It is easy to make mistakes in machine learning, so let's keep our camera on autofocus and use Tenforflow and NumPy to help autormate tedious software development.\n",
        "\n",
        "First, you import TensorFlow by running following script: "
      ]
    },
    {
      "metadata": {
        "id": "c9Ob0wCdY95_",
        "colab_type": "code",
        "colab": {}
      },
      "cell_type": "code",
      "source": [
        "import tensorflow as tf\n"
      ],
      "execution_count": 0,
      "outputs": []
    },
    {
      "metadata": {
        "id": "YrshGHfkeZXk",
        "colab_type": "text"
      },
      "cell_type": "markdown",
      "source": [
        "If you were able to run the cell above, then you are ready to work with TensorFlow.  Otherwise, you may need to install it first.\n",
        "\n",
        "\n",
        "## Representing tensors\n",
        "\n",
        "A convenient way to describe an object's in the real world is through listing its properties, or features.  For example, you can describe a car by its color, model, engine type, mileage, door style, and so on.  An ordered list of features is called __feature vector__, and that's exactly what you'll represent in TensorFlow code. \n",
        "\n",
        "Feature vectors are one of the most unseful devices in machine learning because of its simplicity (they're just a list of numbers).  Each data item typically consists of a feature vector, and good dataset has hundreds, if not thousands, of these feature vectors.  No doubt, you'll often be dealing with more than one vector at a time.  A matrix concisely represents a list of vectors, where each column of a matrix is a feature vector. \n",
        "\n",
        "The syntax to represent matrices in matrices in TensorFflow is a vector of vectors, each of the same length.   The following three lines of code  are trying to represent the same 2 x 2 matrix. "
      ]
    },
    {
      "metadata": {
        "id": "JEd01MYkeS5S",
        "colab_type": "code",
        "colab": {
          "base_uri": "https://localhost:8080/",
          "height": 125
        },
        "outputId": "364059e2-4542-495f-b5f7-630d71a3cae1"
      },
      "cell_type": "code",
      "source": [
        "import tensorflow as tf\n",
        "import numpy as np\n",
        "\n",
        "# Three ways of representing 2 x 2 tensors\n",
        "\n",
        "m1 = [[1.0, 2.0], \n",
        "      [3.0, 4.0]]\n",
        "\n",
        "m2 = np.array([[1.0, 2.0], \n",
        "               [3.0, 4.0]], dtype=np.float32) \n",
        "\n",
        "m3 = tf.constant([[1.0, 2.0], \n",
        "                  [3.9, 4.0]]) \n",
        "\n",
        "print(type(m1))\n",
        "print(type(m2))\n",
        "print(type(m3))\n",
        "\n",
        "t1 = tf.convert_to_tensor(m1, dtype=tf.float32)\n",
        "t2 = tf.convert_to_tensor(m2, dtype=tf.float32)\n",
        "t3 = tf.convert_to_tensor(m3, dtype=tf.float32)\n",
        "\n",
        "print(type(t1))\n",
        "print(type(t2))\n",
        "print(type(t3))"
      ],
      "execution_count": 19,
      "outputs": [
        {
          "output_type": "stream",
          "text": [
            "<class 'list'>\n",
            "<class 'numpy.ndarray'>\n",
            "<class 'tensorflow.python.framework.ops.Tensor'>\n",
            "<class 'tensorflow.python.framework.ops.Tensor'>\n",
            "<class 'tensorflow.python.framework.ops.Tensor'>\n",
            "<class 'tensorflow.python.framework.ops.Tensor'>\n"
          ],
          "name": "stdout"
        }
      ]
    },
    {
      "metadata": {
        "id": "Np4yQVJgj9kw",
        "colab_type": "text"
      },
      "cell_type": "markdown",
      "source": [
        "The first variable `m1` is a list, the second variable `m2` is an `ndarray` from the NumPy library, and the last variable `m3` is TensorFLow constant `Tensor` object that you initialized using `tf.constant`. "
      ]
    },
    {
      "metadata": {
        "id": "dIDj_Jt8rlht",
        "colab_type": "text"
      },
      "cell_type": "markdown",
      "source": [
        "## Creating tensors\n",
        "\n",
        "Let's take another look at defining tensor in code.  After importint the TensorFlow library, you can use the `tf.constant` operator as follows.  Here are a couple of tensors of various dimensions. "
      ]
    },
    {
      "metadata": {
        "id": "1_j2aaOAtPjN",
        "colab_type": "code",
        "colab": {
          "base_uri": "https://localhost:8080/",
          "height": 71
        },
        "outputId": "28e401f7-0a63-4fbe-afed-64ad135115b3"
      },
      "cell_type": "code",
      "source": [
        "import tensorflow as tf\n",
        "\n",
        "m1 = tf.constant([[1., 2.]])  # defines a 2 x 1 matrix\n",
        "\n",
        "m2 = tf.constant([[1], [2]])  # defines a 1 x 2 matrix\n",
        "\n",
        "m3 = tf.constant([[[1, 2], [3, 4], [5, 6]], [[7, 8], [9, 10], [11, 12]]])  \n",
        "\n",
        "print(m1)\n",
        "print(m2)\n",
        "print(m3)\n"
      ],
      "execution_count": 20,
      "outputs": [
        {
          "output_type": "stream",
          "text": [
            "Tensor(\"Const_3:0\", shape=(1, 2), dtype=float32)\n",
            "Tensor(\"Const_4:0\", shape=(2, 1), dtype=int32)\n",
            "Tensor(\"Const_5:0\", shape=(2, 3, 2), dtype=int32)\n"
          ],
          "name": "stdout"
        }
      ]
    },
    {
      "metadata": {
        "id": "wqZPl-IVuTdL",
        "colab_type": "text"
      },
      "cell_type": "markdown",
      "source": [
        "TensorFlow also comes with a few convenient constructors for some simple tensors.  For example, `tf.zeros(shape)` creates a tensor with all  values initialized at zeroof a specific shape.  Similarly, `tf.zeros(shape)` creates a tensor of a specific shape with all values initialized at once.  The shape argument is a one-dimensional (1D) tensor of type `int32` (a list of integers) describing the dimensions of the tensor."
      ]
    },
    {
      "metadata": {
        "id": "Y7m2nZQ1xNjR",
        "colab_type": "text"
      },
      "cell_type": "markdown",
      "source": [
        "## Exercise 1\n",
        "Initialize a 500 x 500 tensor with all elements equaling 0.5.\n",
        "\n",
        "Answer:\n",
        "  tf.ones( [500, 500] ) * 0.5"
      ]
    },
    {
      "metadata": {
        "id": "3xuxDc0fxMeR",
        "colab_type": "code",
        "colab": {}
      },
      "cell_type": "code",
      "source": [
        ""
      ],
      "execution_count": 0,
      "outputs": []
    },
    {
      "metadata": {
        "id": "howpkHcLvB4W",
        "colab_type": "text"
      },
      "cell_type": "markdown",
      "source": [
        "## Creating operators\n",
        "\n",
        "Now that you have a few starting tensors ready to be used, you can apply more-interesting operators such as addition or multiplication.  Let's start simple aand run a negation op (short for _operation_) on the `m1` tensor from above.  \n",
        "\n",
        "#### Note\n",
        "_Defining_ an operation, such as negation, is different from _running_ it. So far, you've _defined_ how operation should behave.  In next section, you'll _evaluate_ (or _run_) them to compute their result. "
      ]
    },
    {
      "metadata": {
        "id": "BvQrYV18wPPU",
        "colab_type": "code",
        "colab": {
          "base_uri": "https://localhost:8080/",
          "height": 35
        },
        "outputId": "67da9eee-f4b6-4c9e-d533-ae5e6c44f240"
      },
      "cell_type": "code",
      "source": [
        "import tensorflow as tf\n",
        "\n",
        "x = tf.constant([[1, 2]])\n",
        "neg_x = tf.negative(x)\n",
        "print(neg_x)"
      ],
      "execution_count": 21,
      "outputs": [
        {
          "output_type": "stream",
          "text": [
            "Tensor(\"Neg:0\", shape=(1, 2), dtype=int32)\n"
          ],
          "name": "stdout"
        }
      ]
    },
    {
      "metadata": {
        "id": "FlEuCqm-wsQk",
        "colab_type": "text"
      },
      "cell_type": "markdown",
      "source": [
        "Notice that the output is not `[[-1, -2]]`.  That's because you're printing out the definition of the negation op, not the actual evaluation of the op.  \n",
        "\n",
        "Useful Tensorflow operators\n",
        "\n",
        "tf.add(x, y)\n",
        "\n",
        "tf.subtract(x, y)\n",
        "\n",
        "tf.multiply(x, y)\n",
        "\n",
        "tf.pow(x, y)\n",
        "\n",
        "tf.exp(x)\n",
        "\n",
        "tf.sqrt(x)\n",
        "\n",
        "tf.div(x, y)\n",
        "\n",
        "tf.truediv(x, y)\n",
        "\n",
        "tf.floordiv(x, y)\n",
        "\n",
        "tf.mod(x, y)"
      ]
    },
    {
      "metadata": {
        "id": "Zc9QnYSiycd9",
        "colab_type": "text"
      },
      "cell_type": "markdown",
      "source": [
        "# Exercise 2\n",
        "\n",
        "Use the TensorFlow operators you've learned so far to produce the Gaussian distribution (also known as the normal distruction).  For reference, you can find the probability density of the normal distribution online:  https://en.wikipedia.org/wiki/Normal_distribution.\n",
        "\n",
        "### Answer \n",
        "Most mathematical expressions such as x, - +, and so on are just shortcuts for their TensorFlow equivalent, for brevity.  The Gaussian function includes many operations, so it is cleaner to use shorthand notations as follows:"
      ]
    },
    {
      "metadata": {
        "id": "fYQzz4chjxL4",
        "colab_type": "code",
        "colab": {
          "base_uri": "https://localhost:8080/",
          "height": 35
        },
        "outputId": "946ee423-3566-4e65-bb24-c3525207f67c"
      },
      "cell_type": "code",
      "source": [
        "from math import pi\n",
        "x = 1\n",
        "mean = 0.0\n",
        "sigma = 1.0\n",
        "\n",
        "(tf.exp(tf.negative(tf.pow(x - mean, 2.0) / (2.0 * tf.pow(sigma, 2.0) ))) \n",
        "                   * (1.0 / (sigma * tf.sqrt(2.0 * pi) )))\n"
      ],
      "execution_count": 32,
      "outputs": [
        {
          "output_type": "execute_result",
          "data": {
            "text/plain": [
              "<tf.Tensor 'mul_3:0' shape=() dtype=float32>"
            ]
          },
          "metadata": {
            "tags": []
          },
          "execution_count": 32
        }
      ]
    },
    {
      "metadata": {
        "id": "jyPRjyFK5uST",
        "colab_type": "text"
      },
      "cell_type": "markdown",
      "source": [
        "# Executing operators with sessions\n",
        "\n",
        "A _session_ is an environment of a software system that describes how the lines of code should run.  In TensorFlow, a session sets up how the hardware devices (such as CPU and GPU) talks to each other. That way, you can design your machine-learning algorithm without worrying about micromanaging the hardware it runs on.  You can later configure the session to change its behavior without chaning a line of the machine learning code. \n",
        "\n",
        "To execute an operation and retrieve its calculated value, TensorFlow requires a session.  Only a registered session may fill the values of a `Tensor` object.  To do so, you must create a session class by using `tf.Session()` and tell it to run an operator, as shown in the following listing.  The result will be a value you can later use for further compuations."
      ]
    },
    {
      "metadata": {
        "id": "9QVhg0hDz4Z-",
        "colab_type": "code",
        "colab": {
          "base_uri": "https://localhost:8080/",
          "height": 35
        },
        "outputId": "2719d4ab-39c8-4862-f263-9dc124b2b6c6"
      },
      "cell_type": "code",
      "source": [
        "import tensorflow as tf\n",
        "\n",
        "x = tf.constant([[1., 2.]])\n",
        "neg_x = tf.negative(x)\n",
        "\n",
        "with tf.Session() as sess:\n",
        "  result = sess.run(neg_x)\n",
        "  \n",
        "print(result)"
      ],
      "execution_count": 34,
      "outputs": [
        {
          "output_type": "stream",
          "text": [
            "[[-1. -2.]]\n"
          ],
          "name": "stdout"
        }
      ]
    },
    {
      "metadata": {
        "id": "Xs0AV41g8dpB",
        "colab_type": "text"
      },
      "cell_type": "markdown",
      "source": [
        "Congratulations! \n",
        "\n",
        "You have just written your first full Tensorflow code.  A session notly configures _when_ your code will be computed on your machine, but also _how_ the computation will be laid out in order to parallelize computation.   Every `Tensor` object has an `eval()` function to evaluate the mathematical operations that define its value.  But the `eval()` function requires definind a session object for the library to understand how to best use the underlying hardware.  The listing shown above used `sess.run(...)`, which is equivalent to invoking the Tensor's `eval()` function in the context of the session. \n",
        "\n",
        "When you are running TensorFlow code through an interactive environment (for debugging or presentation purposes), it is often easier to create the session in interactive mode, where the session is implicityly part of any call to `eval()`.  That way, the session variable does not need to be passed around throughout the code, making it easier to focus on the relevant parts of the algorithm, as seen in the following listing.\n",
        "\n"
      ]
    },
    {
      "metadata": {
        "id": "MtARUKIs7xNp",
        "colab_type": "code",
        "colab": {}
      },
      "cell_type": "code",
      "source": [
        "import tensorflow as tf\n",
        "\n",
        "sess = tf.InteractiveSession()\n",
        "\n",
        "x = tf.constant([[1., 2.]])\n",
        "neg_op = tf.negative(x)\n",
        "\n",
        "# Since we're using an interactive session, \n",
        "# we can just call the eval() method on the op.\n",
        "\n",
        "result = neg_op.eval()\n",
        "\n",
        "print(result)\n",
        "sess.close()\n"
      ],
      "execution_count": 0,
      "outputs": []
    },
    {
      "metadata": {
        "id": "CWfgk4ps-oNV",
        "colab_type": "text"
      },
      "cell_type": "markdown",
      "source": [
        "That code's a little cleaner when using Jupyter notebooks (like this one).  Don't forget to close the session:"
      ]
    },
    {
      "metadata": {
        "id": "8tVbYlTbB3mr",
        "colab_type": "text"
      },
      "cell_type": "markdown",
      "source": [
        "# Setting session configuration\n",
        "\n",
        "You can also pass options to `tf.Session`.  For example, TensorFlow automatically determines the best way to assign a GPU or CPU device to an operation depending on what's available.  You can pass adn additional option, `log_device_placements=True`, when creating a session, as shown in the following listing, which will show you exactly where on your hardware the compuations are evoked.  Try this from a terminal. Jupyter notebooks won't show the logging info.\n",
        "\n"
      ]
    },
    {
      "metadata": {
        "id": "6vVyVXZ-C4eU",
        "colab_type": "code",
        "colab": {
          "base_uri": "https://localhost:8080/",
          "height": 35
        },
        "outputId": "f733b301-58b1-4167-ff00-4a534baba9d0"
      },
      "cell_type": "code",
      "source": [
        "import tensorflow as tf\n",
        "\n",
        "x = tf.constant([[1, 2]])\n",
        "neg_op = tf.negative(x)\n",
        "\n",
        "# Starts the session with a special config passed into the constructor\n",
        "# to enable logging\n",
        "with tf.Session(config=tf.ConfigProto(log_device_placement=True)) as sess:\n",
        "    result = sess.run(neg_op)\n",
        "\n",
        "print(result)\n"
      ],
      "execution_count": 36,
      "outputs": [
        {
          "output_type": "stream",
          "text": [
            "[[-1 -2]]\n"
          ],
          "name": "stdout"
        }
      ]
    },
    {
      "metadata": {
        "id": "4F6nyeKODgZS",
        "colab_type": "text"
      },
      "cell_type": "markdown",
      "source": [
        "\n",
        "# Three types of values\n",
        "\n",
        "Sessions are essential in TensorFlow code.  You need to call a session to __run__ the math.  A session not only runs a computational graph operation, but also can take placeholders, variables, and constants as input.  We've used constants so far, but in later sections, we will start using variables and placeholders.  Here's a quick overview of these three types of values:\n",
        "\n",
        "- Placehoders: A value that's unassigned but will be initialized by the session wherever it is run.  Typically, placeholders are the input and output of your model\n",
        "\n",
        "- Variable: A value that can change, such as parameters of a machine-learning model.  Variables must be initialized by the session before they're used\n",
        "\n",
        "- Constant: A value that does not change, such as hyperparameters or settings.\n",
        "\n"
      ]
    },
    {
      "metadata": {
        "id": "nESQYqSBGLiE",
        "colab_type": "text"
      },
      "cell_type": "markdown",
      "source": [
        "# Using variables\n",
        "\n",
        "Finding the equation of a line that best fits many points is a classic machine-learning problem.  The algorithm starts with an initial guess, which is an equation characterized by a few numbers (such as the slope or y-intercept). Over time, the algorithm generates increasingly better guesses for these numbers, which are also called _parameters_.\n",
        "\n",
        "So far, we've seen manipulating only constants. Programs with only constants are not that interesting for real-world applications, so TensorFlow allows richer tools such as variables, which are containers for values that may change over time.  A machine=learning algorithm updates the parameters of a model until it finds the optimal value for each variable.  In the world of machine learning, it is common for parameters to fluctuate until eventually settling down, making variables an excellent data structure for them. \n",
        "\n",
        "The code shown below is a simple TensorFlow program that demonstrates how to use variables.  It updates a variable whenever sequential data abruptly increases in value.  Think about recoding measurements of a neuron's activity over time. This piece of code can detect when the neuron's activity suddenly spickes.  Of course the algorithm is oversimplication for diabetic purposes.\n",
        "\n",
        "-------------------\n"
      ]
    },
    {
      "metadata": {
        "id": "Dqq5qUoqI-2Y",
        "colab_type": "text"
      },
      "cell_type": "markdown",
      "source": [
        "Here we go, here we go, here we go! Moving on from those simple examples, let's get a better understanding of variables. Start with a session:"
      ]
    },
    {
      "metadata": {
        "id": "MSG0EM3mDCKM",
        "colab_type": "code",
        "colab": {}
      },
      "cell_type": "code",
      "source": [
        "import tensorflow as tf\n",
        "sess = tf.InteractiveSession()"
      ],
      "execution_count": 0,
      "outputs": []
    },
    {
      "metadata": {
        "id": "uuvPZeMoJDxC",
        "colab_type": "text"
      },
      "cell_type": "markdown",
      "source": [
        "Below is a series of numbers. Don't worry what they mean. Just for fun, let's think of them as neural activations."
      ]
    },
    {
      "metadata": {
        "id": "7EzugVXVJGqU",
        "colab_type": "code",
        "colab": {}
      },
      "cell_type": "code",
      "source": [
        "raw_data = [1., 2., 8., -1., 0., 5.5, 6., 13]"
      ],
      "execution_count": 0,
      "outputs": []
    },
    {
      "metadata": {
        "id": "3Fyn4KH4JI5n",
        "colab_type": "text"
      },
      "cell_type": "markdown",
      "source": [
        "Create a boolean variable called `spike` to detect a sudden increase in the values.\n",
        "\n",
        "All variables must be initialized. Go ahead and initialize the variable by calling `run()` on its `initializer`:"
      ]
    },
    {
      "metadata": {
        "id": "dxfiNDLEJML_",
        "colab_type": "code",
        "colab": {}
      },
      "cell_type": "code",
      "source": [
        "spike = tf.Variable(False)\n",
        "spike.initializer.run()"
      ],
      "execution_count": 0,
      "outputs": []
    },
    {
      "metadata": {
        "id": "dtrV1E18JP4L",
        "colab_type": "text"
      },
      "cell_type": "markdown",
      "source": [
        "Loop through the data and update the spike variable when there is a significant increase:"
      ]
    },
    {
      "metadata": {
        "id": "SbOdPz2HJSEU",
        "colab_type": "code",
        "colab": {}
      },
      "cell_type": "code",
      "source": [
        "for i in range(1, len(raw_data)):\n",
        "    if raw_data[i] - raw_data[i-1] > 5:\n",
        "        updater = tf.assign(spike, tf.constant(True))\n",
        "        updater.eval()\n",
        "    else:\n",
        "        tf.assign(spike, False).eval()\n",
        "    print(\"Spike\", spike.eval())"
      ],
      "execution_count": 0,
      "outputs": []
    },
    {
      "metadata": {
        "id": "lwKxPbXfJVNs",
        "colab_type": "text"
      },
      "cell_type": "markdown",
      "source": [
        "You forgot to close the session! Here, let me do it:"
      ]
    },
    {
      "metadata": {
        "id": "mK3v5JnTJZj-",
        "colab_type": "code",
        "colab": {}
      },
      "cell_type": "code",
      "source": [
        "sess.close()"
      ],
      "execution_count": 0,
      "outputs": []
    },
    {
      "metadata": {
        "id": "JIzRixPhEEIU",
        "colab_type": "text"
      },
      "cell_type": "markdown",
      "source": [
        "TensorFlow allows you to declare a session by using `tf.InteractiveSession()`. When you've declared an interactive session, TensorFlow functions don't require the session attribute they would  otherwise, which makes coding in Jupyter Notebooks easier.\n",
        "\n"
      ]
    },
    {
      "metadata": {
        "id": "6FvV3TVsLuFR",
        "colab_type": "text"
      },
      "cell_type": "markdown",
      "source": [
        "# Saving and loading variables\n",
        "\n",
        "Imagine writing a monolithic block of code, of which you'd like to individually test a tiny segment.  In complicated machine-learning situations, saving and loading data at known checkpoints makes it much easier to debug code.  TensorFlow provides an elegant interface to save and load variable values to disk;  let's see how to use it for that purpose.\n",
        "\n",
        "Let's revamp the code that you created in list above to save the spike data to disk so you can load it elsewhere.  You'll change the history of spikes.  Notice that you will explicitly name the variables so they can be loaded later with the same name.  Naming a variable is optional but highly encouraged to organize your code.  \n",
        "\n",
        "Try running this code to see the results."
      ]
    },
    {
      "metadata": {
        "id": "kSaguHuXNFGl",
        "colab_type": "text"
      },
      "cell_type": "markdown",
      "source": [
        "### Saving variables"
      ]
    },
    {
      "metadata": {
        "id": "OhsAjo-iM8N-",
        "colab_type": "code",
        "colab": {
          "base_uri": "https://localhost:8080/",
          "height": 2658
        },
        "outputId": "604a8a59-0a4c-4d52-a6a4-2da84f5ed183"
      },
      "cell_type": "code",
      "source": [
        "# Create an interactive session and initialize a variable:\n",
        "import tensorflow as tf\n",
        "sess = tf.InteractiveSession()\n",
        "\n",
        "raw_data = [1., 2., 8., -1., 0., 5.5, 6., 13]\n",
        "spikes = tf.Variable([False] * len(raw_data), name='spikes')\n",
        "spikes.initializer.run()\n",
        "\n",
        "# The saver op will enable saving and restoring:\n",
        "saver = tf.train.Saver()\n",
        "\n",
        "# Loop through the data and update the spike variable when there is a significant increase:\n",
        "for i in range(1, len(raw_data)):\n",
        "    if raw_data[i] - raw_data[i-1] > 5:\n",
        "        spikes_val = spikes.eval()\n",
        "        spikes_val[i] = True\n",
        "        updater = tf.assign(spikes, spikes_val)\n",
        "        updater.eval()\n",
        "        \n",
        "#Now, save your variable to disk!\n",
        "save_path = saver.save(sess, \"./spikes.ckpt\")\n",
        "print(\"spikes data saved in file: %s\" % save_path)\n",
        "\n",
        "sess.close()"
      ],
      "execution_count": 40,
      "outputs": [
        {
          "output_type": "stream",
          "text": [
            "/usr/local/lib/python3.6/dist-packages/tensorflow/python/client/session.py:1702: UserWarning: An interactive session is already active. This can cause out-of-memory errors in some cases. You must explicitly call `InteractiveSession.close()` to release resources held by the other session(s).\n",
            "  warnings.warn('An interactive session is already active. This can '\n"
          ],
          "name": "stderr"
        },
        {
          "output_type": "error",
          "ename": "FailedPreconditionError",
          "evalue": "ignored",
          "traceback": [
            "\u001b[0;31m---------------------------------------------------------------------------\u001b[0m",
            "\u001b[0;31mFailedPreconditionError\u001b[0m                   Traceback (most recent call last)",
            "\u001b[0;32m/usr/local/lib/python3.6/dist-packages/tensorflow/python/client/session.py\u001b[0m in \u001b[0;36m_do_call\u001b[0;34m(self, fn, *args)\u001b[0m\n\u001b[1;32m   1333\u001b[0m     \u001b[0;32mtry\u001b[0m\u001b[0;34m:\u001b[0m\u001b[0;34m\u001b[0m\u001b[0;34m\u001b[0m\u001b[0m\n\u001b[0;32m-> 1334\u001b[0;31m       \u001b[0;32mreturn\u001b[0m \u001b[0mfn\u001b[0m\u001b[0;34m(\u001b[0m\u001b[0;34m*\u001b[0m\u001b[0margs\u001b[0m\u001b[0;34m)\u001b[0m\u001b[0;34m\u001b[0m\u001b[0;34m\u001b[0m\u001b[0m\n\u001b[0m\u001b[1;32m   1335\u001b[0m     \u001b[0;32mexcept\u001b[0m \u001b[0merrors\u001b[0m\u001b[0;34m.\u001b[0m\u001b[0mOpError\u001b[0m \u001b[0;32mas\u001b[0m \u001b[0me\u001b[0m\u001b[0;34m:\u001b[0m\u001b[0;34m\u001b[0m\u001b[0;34m\u001b[0m\u001b[0m\n",
            "\u001b[0;32m/usr/local/lib/python3.6/dist-packages/tensorflow/python/client/session.py\u001b[0m in \u001b[0;36m_run_fn\u001b[0;34m(feed_dict, fetch_list, target_list, options, run_metadata)\u001b[0m\n\u001b[1;32m   1318\u001b[0m       return self._call_tf_sessionrun(\n\u001b[0;32m-> 1319\u001b[0;31m           options, feed_dict, fetch_list, target_list, run_metadata)\n\u001b[0m\u001b[1;32m   1320\u001b[0m \u001b[0;34m\u001b[0m\u001b[0m\n",
            "\u001b[0;32m/usr/local/lib/python3.6/dist-packages/tensorflow/python/client/session.py\u001b[0m in \u001b[0;36m_call_tf_sessionrun\u001b[0;34m(self, options, feed_dict, fetch_list, target_list, run_metadata)\u001b[0m\n\u001b[1;32m   1406\u001b[0m         \u001b[0mself\u001b[0m\u001b[0;34m.\u001b[0m\u001b[0m_session\u001b[0m\u001b[0;34m,\u001b[0m \u001b[0moptions\u001b[0m\u001b[0;34m,\u001b[0m \u001b[0mfeed_dict\u001b[0m\u001b[0;34m,\u001b[0m \u001b[0mfetch_list\u001b[0m\u001b[0;34m,\u001b[0m \u001b[0mtarget_list\u001b[0m\u001b[0;34m,\u001b[0m\u001b[0;34m\u001b[0m\u001b[0;34m\u001b[0m\u001b[0m\n\u001b[0;32m-> 1407\u001b[0;31m         run_metadata)\n\u001b[0m\u001b[1;32m   1408\u001b[0m \u001b[0;34m\u001b[0m\u001b[0m\n",
            "\u001b[0;31mFailedPreconditionError\u001b[0m: Attempting to use uninitialized value spikes\n\t [[{{node save_3/SaveV2}}]]",
            "\nDuring handling of the above exception, another exception occurred:\n",
            "\u001b[0;31mFailedPreconditionError\u001b[0m                   Traceback (most recent call last)",
            "\u001b[0;32m<ipython-input-40-96c3c3d2fd3b>\u001b[0m in \u001b[0;36m<module>\u001b[0;34m()\u001b[0m\n\u001b[1;32m     18\u001b[0m \u001b[0;34m\u001b[0m\u001b[0m\n\u001b[1;32m     19\u001b[0m \u001b[0;31m#Now, save your variable to disk!\u001b[0m\u001b[0;34m\u001b[0m\u001b[0;34m\u001b[0m\u001b[0;34m\u001b[0m\u001b[0m\n\u001b[0;32m---> 20\u001b[0;31m \u001b[0msave_path\u001b[0m \u001b[0;34m=\u001b[0m \u001b[0msaver\u001b[0m\u001b[0;34m.\u001b[0m\u001b[0msave\u001b[0m\u001b[0;34m(\u001b[0m\u001b[0msess\u001b[0m\u001b[0;34m,\u001b[0m \u001b[0;34m\"./spikes.ckpt\"\u001b[0m\u001b[0;34m)\u001b[0m\u001b[0;34m\u001b[0m\u001b[0;34m\u001b[0m\u001b[0m\n\u001b[0m\u001b[1;32m     21\u001b[0m \u001b[0mprint\u001b[0m\u001b[0;34m(\u001b[0m\u001b[0;34m\"spikes data saved in file: %s\"\u001b[0m \u001b[0;34m%\u001b[0m \u001b[0msave_path\u001b[0m\u001b[0;34m)\u001b[0m\u001b[0;34m\u001b[0m\u001b[0;34m\u001b[0m\u001b[0m\n\u001b[1;32m     22\u001b[0m \u001b[0;34m\u001b[0m\u001b[0m\n",
            "\u001b[0;32m/usr/local/lib/python3.6/dist-packages/tensorflow/python/training/saver.py\u001b[0m in \u001b[0;36msave\u001b[0;34m(self, sess, save_path, global_step, latest_filename, meta_graph_suffix, write_meta_graph, write_state, strip_default_attrs)\u001b[0m\n\u001b[1;32m   1186\u001b[0m               \"Parent directory of {} doesn't exist, can't save.\".format(\n\u001b[1;32m   1187\u001b[0m                   save_path))\n\u001b[0;32m-> 1188\u001b[0;31m         \u001b[0;32mraise\u001b[0m \u001b[0mexc\u001b[0m\u001b[0;34m\u001b[0m\u001b[0;34m\u001b[0m\u001b[0m\n\u001b[0m\u001b[1;32m   1189\u001b[0m \u001b[0;34m\u001b[0m\u001b[0m\n\u001b[1;32m   1190\u001b[0m     \u001b[0;32mif\u001b[0m \u001b[0mwrite_meta_graph\u001b[0m\u001b[0;34m:\u001b[0m\u001b[0;34m\u001b[0m\u001b[0;34m\u001b[0m\u001b[0m\n",
            "\u001b[0;32m/usr/local/lib/python3.6/dist-packages/tensorflow/python/training/saver.py\u001b[0m in \u001b[0;36msave\u001b[0;34m(self, sess, save_path, global_step, latest_filename, meta_graph_suffix, write_meta_graph, write_state, strip_default_attrs)\u001b[0m\n\u001b[1;32m   1169\u001b[0m           model_checkpoint_path = sess.run(\n\u001b[1;32m   1170\u001b[0m               \u001b[0mself\u001b[0m\u001b[0;34m.\u001b[0m\u001b[0msaver_def\u001b[0m\u001b[0;34m.\u001b[0m\u001b[0msave_tensor_name\u001b[0m\u001b[0;34m,\u001b[0m\u001b[0;34m\u001b[0m\u001b[0;34m\u001b[0m\u001b[0m\n\u001b[0;32m-> 1171\u001b[0;31m               {self.saver_def.filename_tensor_name: checkpoint_file})\n\u001b[0m\u001b[1;32m   1172\u001b[0m \u001b[0;34m\u001b[0m\u001b[0m\n\u001b[1;32m   1173\u001b[0m         \u001b[0mmodel_checkpoint_path\u001b[0m \u001b[0;34m=\u001b[0m \u001b[0mcompat\u001b[0m\u001b[0;34m.\u001b[0m\u001b[0mas_str\u001b[0m\u001b[0;34m(\u001b[0m\u001b[0mmodel_checkpoint_path\u001b[0m\u001b[0;34m)\u001b[0m\u001b[0;34m\u001b[0m\u001b[0;34m\u001b[0m\u001b[0m\n",
            "\u001b[0;32m/usr/local/lib/python3.6/dist-packages/tensorflow/python/client/session.py\u001b[0m in \u001b[0;36mrun\u001b[0;34m(self, fetches, feed_dict, options, run_metadata)\u001b[0m\n\u001b[1;32m    927\u001b[0m     \u001b[0;32mtry\u001b[0m\u001b[0;34m:\u001b[0m\u001b[0;34m\u001b[0m\u001b[0;34m\u001b[0m\u001b[0m\n\u001b[1;32m    928\u001b[0m       result = self._run(None, fetches, feed_dict, options_ptr,\n\u001b[0;32m--> 929\u001b[0;31m                          run_metadata_ptr)\n\u001b[0m\u001b[1;32m    930\u001b[0m       \u001b[0;32mif\u001b[0m \u001b[0mrun_metadata\u001b[0m\u001b[0;34m:\u001b[0m\u001b[0;34m\u001b[0m\u001b[0;34m\u001b[0m\u001b[0m\n\u001b[1;32m    931\u001b[0m         \u001b[0mproto_data\u001b[0m \u001b[0;34m=\u001b[0m \u001b[0mtf_session\u001b[0m\u001b[0;34m.\u001b[0m\u001b[0mTF_GetBuffer\u001b[0m\u001b[0;34m(\u001b[0m\u001b[0mrun_metadata_ptr\u001b[0m\u001b[0;34m)\u001b[0m\u001b[0;34m\u001b[0m\u001b[0;34m\u001b[0m\u001b[0m\n",
            "\u001b[0;32m/usr/local/lib/python3.6/dist-packages/tensorflow/python/client/session.py\u001b[0m in \u001b[0;36m_run\u001b[0;34m(self, handle, fetches, feed_dict, options, run_metadata)\u001b[0m\n\u001b[1;32m   1150\u001b[0m     \u001b[0;32mif\u001b[0m \u001b[0mfinal_fetches\u001b[0m \u001b[0;32mor\u001b[0m \u001b[0mfinal_targets\u001b[0m \u001b[0;32mor\u001b[0m \u001b[0;34m(\u001b[0m\u001b[0mhandle\u001b[0m \u001b[0;32mand\u001b[0m \u001b[0mfeed_dict_tensor\u001b[0m\u001b[0;34m)\u001b[0m\u001b[0;34m:\u001b[0m\u001b[0;34m\u001b[0m\u001b[0;34m\u001b[0m\u001b[0m\n\u001b[1;32m   1151\u001b[0m       results = self._do_run(handle, final_targets, final_fetches,\n\u001b[0;32m-> 1152\u001b[0;31m                              feed_dict_tensor, options, run_metadata)\n\u001b[0m\u001b[1;32m   1153\u001b[0m     \u001b[0;32melse\u001b[0m\u001b[0;34m:\u001b[0m\u001b[0;34m\u001b[0m\u001b[0;34m\u001b[0m\u001b[0m\n\u001b[1;32m   1154\u001b[0m       \u001b[0mresults\u001b[0m \u001b[0;34m=\u001b[0m \u001b[0;34m[\u001b[0m\u001b[0;34m]\u001b[0m\u001b[0;34m\u001b[0m\u001b[0;34m\u001b[0m\u001b[0m\n",
            "\u001b[0;32m/usr/local/lib/python3.6/dist-packages/tensorflow/python/client/session.py\u001b[0m in \u001b[0;36m_do_run\u001b[0;34m(self, handle, target_list, fetch_list, feed_dict, options, run_metadata)\u001b[0m\n\u001b[1;32m   1326\u001b[0m     \u001b[0;32mif\u001b[0m \u001b[0mhandle\u001b[0m \u001b[0;32mis\u001b[0m \u001b[0;32mNone\u001b[0m\u001b[0;34m:\u001b[0m\u001b[0;34m\u001b[0m\u001b[0;34m\u001b[0m\u001b[0m\n\u001b[1;32m   1327\u001b[0m       return self._do_call(_run_fn, feeds, fetches, targets, options,\n\u001b[0;32m-> 1328\u001b[0;31m                            run_metadata)\n\u001b[0m\u001b[1;32m   1329\u001b[0m     \u001b[0;32melse\u001b[0m\u001b[0;34m:\u001b[0m\u001b[0;34m\u001b[0m\u001b[0;34m\u001b[0m\u001b[0m\n\u001b[1;32m   1330\u001b[0m       \u001b[0;32mreturn\u001b[0m \u001b[0mself\u001b[0m\u001b[0;34m.\u001b[0m\u001b[0m_do_call\u001b[0m\u001b[0;34m(\u001b[0m\u001b[0m_prun_fn\u001b[0m\u001b[0;34m,\u001b[0m \u001b[0mhandle\u001b[0m\u001b[0;34m,\u001b[0m \u001b[0mfeeds\u001b[0m\u001b[0;34m,\u001b[0m \u001b[0mfetches\u001b[0m\u001b[0;34m)\u001b[0m\u001b[0;34m\u001b[0m\u001b[0;34m\u001b[0m\u001b[0m\n",
            "\u001b[0;32m/usr/local/lib/python3.6/dist-packages/tensorflow/python/client/session.py\u001b[0m in \u001b[0;36m_do_call\u001b[0;34m(self, fn, *args)\u001b[0m\n\u001b[1;32m   1346\u001b[0m           \u001b[0;32mpass\u001b[0m\u001b[0;34m\u001b[0m\u001b[0;34m\u001b[0m\u001b[0m\n\u001b[1;32m   1347\u001b[0m       \u001b[0mmessage\u001b[0m \u001b[0;34m=\u001b[0m \u001b[0merror_interpolation\u001b[0m\u001b[0;34m.\u001b[0m\u001b[0minterpolate\u001b[0m\u001b[0;34m(\u001b[0m\u001b[0mmessage\u001b[0m\u001b[0;34m,\u001b[0m \u001b[0mself\u001b[0m\u001b[0;34m.\u001b[0m\u001b[0m_graph\u001b[0m\u001b[0;34m)\u001b[0m\u001b[0;34m\u001b[0m\u001b[0;34m\u001b[0m\u001b[0m\n\u001b[0;32m-> 1348\u001b[0;31m       \u001b[0;32mraise\u001b[0m \u001b[0mtype\u001b[0m\u001b[0;34m(\u001b[0m\u001b[0me\u001b[0m\u001b[0;34m)\u001b[0m\u001b[0;34m(\u001b[0m\u001b[0mnode_def\u001b[0m\u001b[0;34m,\u001b[0m \u001b[0mop\u001b[0m\u001b[0;34m,\u001b[0m \u001b[0mmessage\u001b[0m\u001b[0;34m)\u001b[0m\u001b[0;34m\u001b[0m\u001b[0;34m\u001b[0m\u001b[0m\n\u001b[0m\u001b[1;32m   1349\u001b[0m \u001b[0;34m\u001b[0m\u001b[0m\n\u001b[1;32m   1350\u001b[0m   \u001b[0;32mdef\u001b[0m \u001b[0m_extend_graph\u001b[0m\u001b[0;34m(\u001b[0m\u001b[0mself\u001b[0m\u001b[0;34m)\u001b[0m\u001b[0;34m:\u001b[0m\u001b[0;34m\u001b[0m\u001b[0;34m\u001b[0m\u001b[0m\n",
            "\u001b[0;31mFailedPreconditionError\u001b[0m: Attempting to use uninitialized value spikes\n\t [[node save_3/SaveV2 (defined at <ipython-input-40-96c3c3d2fd3b>:9) ]]\n\nCaused by op 'save_3/SaveV2', defined at:\n  File \"/usr/lib/python3.6/runpy.py\", line 193, in _run_module_as_main\n    \"__main__\", mod_spec)\n  File \"/usr/lib/python3.6/runpy.py\", line 85, in _run_code\n    exec(code, run_globals)\n  File \"/usr/local/lib/python3.6/dist-packages/ipykernel_launcher.py\", line 16, in <module>\n    app.launch_new_instance()\n  File \"/usr/local/lib/python3.6/dist-packages/traitlets/config/application.py\", line 658, in launch_instance\n    app.start()\n  File \"/usr/local/lib/python3.6/dist-packages/ipykernel/kernelapp.py\", line 477, in start\n    ioloop.IOLoop.instance().start()\n  File \"/usr/local/lib/python3.6/dist-packages/tornado/ioloop.py\", line 888, in start\n    handler_func(fd_obj, events)\n  File \"/usr/local/lib/python3.6/dist-packages/tornado/stack_context.py\", line 277, in null_wrapper\n    return fn(*args, **kwargs)\n  File \"/usr/local/lib/python3.6/dist-packages/zmq/eventloop/zmqstream.py\", line 450, in _handle_events\n    self._handle_recv()\n  File \"/usr/local/lib/python3.6/dist-packages/zmq/eventloop/zmqstream.py\", line 480, in _handle_recv\n    self._run_callback(callback, msg)\n  File \"/usr/local/lib/python3.6/dist-packages/zmq/eventloop/zmqstream.py\", line 432, in _run_callback\n    callback(*args, **kwargs)\n  File \"/usr/local/lib/python3.6/dist-packages/tornado/stack_context.py\", line 277, in null_wrapper\n    return fn(*args, **kwargs)\n  File \"/usr/local/lib/python3.6/dist-packages/ipykernel/kernelbase.py\", line 283, in dispatcher\n    return self.dispatch_shell(stream, msg)\n  File \"/usr/local/lib/python3.6/dist-packages/ipykernel/kernelbase.py\", line 235, in dispatch_shell\n    handler(stream, idents, msg)\n  File \"/usr/local/lib/python3.6/dist-packages/ipykernel/kernelbase.py\", line 399, in execute_request\n    user_expressions, allow_stdin)\n  File \"/usr/local/lib/python3.6/dist-packages/ipykernel/ipkernel.py\", line 196, in do_execute\n    res = shell.run_cell(code, store_history=store_history, silent=silent)\n  File \"/usr/local/lib/python3.6/dist-packages/ipykernel/zmqshell.py\", line 533, in run_cell\n    return super(ZMQInteractiveShell, self).run_cell(*args, **kwargs)\n  File \"/usr/local/lib/python3.6/dist-packages/IPython/core/interactiveshell.py\", line 2718, in run_cell\n    interactivity=interactivity, compiler=compiler, result=result)\n  File \"/usr/local/lib/python3.6/dist-packages/IPython/core/interactiveshell.py\", line 2822, in run_ast_nodes\n    if self.run_code(code, result):\n  File \"/usr/local/lib/python3.6/dist-packages/IPython/core/interactiveshell.py\", line 2882, in run_code\n    exec(code_obj, self.user_global_ns, self.user_ns)\n  File \"<ipython-input-40-96c3c3d2fd3b>\", line 9, in <module>\n    saver = tf.train.Saver()\n  File \"/usr/local/lib/python3.6/dist-packages/tensorflow/python/training/saver.py\", line 832, in __init__\n    self.build()\n  File \"/usr/local/lib/python3.6/dist-packages/tensorflow/python/training/saver.py\", line 844, in build\n    self._build(self._filename, build_save=True, build_restore=True)\n  File \"/usr/local/lib/python3.6/dist-packages/tensorflow/python/training/saver.py\", line 881, in _build\n    build_save=build_save, build_restore=build_restore)\n  File \"/usr/local/lib/python3.6/dist-packages/tensorflow/python/training/saver.py\", line 510, in _build_internal\n    save_tensor = self._AddSaveOps(filename_tensor, saveables)\n  File \"/usr/local/lib/python3.6/dist-packages/tensorflow/python/training/saver.py\", line 210, in _AddSaveOps\n    save = self.save_op(filename_tensor, saveables)\n  File \"/usr/local/lib/python3.6/dist-packages/tensorflow/python/training/saver.py\", line 124, in save_op\n    tensors)\n  File \"/usr/local/lib/python3.6/dist-packages/tensorflow/python/ops/gen_io_ops.py\", line 1807, in save_v2\n    name=name)\n  File \"/usr/local/lib/python3.6/dist-packages/tensorflow/python/framework/op_def_library.py\", line 788, in _apply_op_helper\n    op_def=op_def)\n  File \"/usr/local/lib/python3.6/dist-packages/tensorflow/python/util/deprecation.py\", line 507, in new_func\n    return func(*args, **kwargs)\n  File \"/usr/local/lib/python3.6/dist-packages/tensorflow/python/framework/ops.py\", line 3300, in create_op\n    op_def=op_def)\n  File \"/usr/local/lib/python3.6/dist-packages/tensorflow/python/framework/ops.py\", line 1801, in __init__\n    self._traceback = tf_stack.extract_stack()\n\nFailedPreconditionError (see above for traceback): Attempting to use uninitialized value spikes\n\t [[node save_3/SaveV2 (defined at <ipython-input-40-96c3c3d2fd3b>:9) ]]\n"
          ]
        }
      ]
    },
    {
      "metadata": {
        "id": "6OD0VAHRNRLc",
        "colab_type": "code",
        "colab": {}
      },
      "cell_type": "code",
      "source": [
        "\n"
      ],
      "execution_count": 0,
      "outputs": []
    }
  ]
}